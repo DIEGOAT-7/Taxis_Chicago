{
 "cells": [
  {
   "cell_type": "markdown",
   "id": "f382b333",
   "metadata": {},
   "source": [
    "## Introducción:\n",
    "\n",
    "**Estás trabajando como analista para Zuber, una nueva empresa de viajes compartidos que se está lanzando en Chicago. Tu tarea es encontrar patrones en la información disponible. Quieres comprender las preferencias de los pasajeros y el impacto de los factores externos en los viajes.**\n",
    "\n",
    "Estudiarás una base de datos, analizarás los datos de los competidores y probarás una hipótesis sobre el impacto del clima en la frecuencia de los viajes.\n",
    "\n",
    "En esta tarea se completará el primer paso del proyecto.\n",
    "\n",
    "**1.** **Escribe un código para analizar los datos sobre el clima en Chicago en noviembre de 2017 desde el sitio web:**\n",
    "\n",
    "[https://practicum-content.s3.us-west-1.amazonaws.com/data-analyst-eng/moved_chicago_weather_2017.html)\n",
    "\n",
    "El nombre del DataFrame debe ser weather_records y tienes que especificarlo cuando buscas: attrs={\"id\": \"weather_records\"} . Imprime el DataFrame completo."
   ]
  },
  {
   "cell_type": "code",
   "execution_count": 2,
   "id": "70b921e4",
   "metadata": {},
   "outputs": [
    {
     "name": "stdout",
     "output_type": "stream",
     "text": [
      "Collecting lxml\n",
      "  Downloading lxml-5.4.0-cp313-cp313-macosx_10_13_x86_64.whl.metadata (3.5 kB)\n",
      "Collecting html5lib\n",
      "  Downloading html5lib-1.1-py2.py3-none-any.whl.metadata (16 kB)\n",
      "Requirement already satisfied: beautifulsoup4 in /Library/Frameworks/Python.framework/Versions/3.13/lib/python3.13/site-packages (4.12.3)\n",
      "Requirement already satisfied: six>=1.9 in /Users/diegoortiz/Library/Python/3.13/lib/python/site-packages (from html5lib) (1.17.0)\n",
      "Requirement already satisfied: webencodings in /Library/Frameworks/Python.framework/Versions/3.13/lib/python3.13/site-packages (from html5lib) (0.5.1)\n",
      "Requirement already satisfied: soupsieve>1.2 in /Library/Frameworks/Python.framework/Versions/3.13/lib/python3.13/site-packages (from beautifulsoup4) (2.6)\n",
      "Downloading lxml-5.4.0-cp313-cp313-macosx_10_13_x86_64.whl (4.4 MB)\n",
      "\u001b[2K   \u001b[90m━━━━━━━━━━━━━━━━━━━━━━━━━━━━━━━━━━━━━━━━\u001b[0m \u001b[32m4.4/4.4 MB\u001b[0m \u001b[31m29.4 MB/s\u001b[0m eta \u001b[36m0:00:00\u001b[0m\n",
      "\u001b[?25hDownloading html5lib-1.1-py2.py3-none-any.whl (112 kB)\n",
      "Installing collected packages: lxml, html5lib\n",
      "Successfully installed html5lib-1.1 lxml-5.4.0\n",
      "\n",
      "\u001b[1m[\u001b[0m\u001b[34;49mnotice\u001b[0m\u001b[1;39;49m]\u001b[0m\u001b[39;49m A new release of pip is available: \u001b[0m\u001b[31;49m24.3.1\u001b[0m\u001b[39;49m -> \u001b[0m\u001b[32;49m25.1.1\u001b[0m\n",
      "\u001b[1m[\u001b[0m\u001b[34;49mnotice\u001b[0m\u001b[1;39;49m]\u001b[0m\u001b[39;49m To update, run: \u001b[0m\u001b[32;49mpip3 install --upgrade pip\u001b[0m\n",
      "Note: you may need to restart the kernel to use updated packages.\n"
     ]
    }
   ],
   "source": [
    "pip install lxml html5lib beautifulsoup4\n"
   ]
  },
  {
   "cell_type": "code",
   "execution_count": 3,
   "id": "3e9035bc",
   "metadata": {},
   "outputs": [
    {
     "name": "stderr",
     "output_type": "stream",
     "text": [
      "/var/folders/yd/jr1h18jn6px95w7s343fr20h0000gp/T/ipykernel_2753/3907834389.py:16: FutureWarning: Passing literal html to 'read_html' is deprecated and will be removed in a future version. To read from a literal string, wrap it in a 'StringIO' object.\n",
      "  df = pd.read_html(str(table))[0]\n"
     ]
    },
    {
     "name": "stdout",
     "output_type": "stream",
     "text": [
      "           Date and time  Temperature       Description\n",
      "0    2017-11-01 00:00:00       276.15     broken clouds\n",
      "1    2017-11-01 01:00:00       275.70  scattered clouds\n",
      "2    2017-11-01 02:00:00       275.61   overcast clouds\n",
      "3    2017-11-01 03:00:00       275.35     broken clouds\n",
      "4    2017-11-01 04:00:00       275.24     broken clouds\n",
      "..                   ...          ...               ...\n",
      "692  2017-11-29 20:00:00       281.34        few clouds\n",
      "693  2017-11-29 21:00:00       281.69      sky is clear\n",
      "694  2017-11-29 22:00:00       281.07        few clouds\n",
      "695  2017-11-29 23:00:00       280.06      sky is clear\n",
      "696  2017-11-30 00:00:00       278.46      sky is clear\n",
      "\n",
      "[697 rows x 3 columns]\n"
     ]
    }
   ],
   "source": [
    "import pandas as pd\n",
    "import requests\n",
    "from bs4 import BeautifulSoup\n",
    "\n",
    "# URL de la página web\n",
    "url = \"https://practicum-content.s3.us-west-1.amazonaws.com/data-analyst-eng/moved_chicago_weather_2017.html\"\n",
    "\n",
    "# Obtener el contenido de la página\n",
    "response = requests.get(url)\n",
    "soup = BeautifulSoup(response.content, \"html.parser\")\n",
    "\n",
    "# Extraer la tabla con id \"weather_records\"\n",
    "table = soup.find(\"table\", attrs={\"id\": \"weather_records\"})\n",
    "\n",
    "# Leer la tabla con pandas\n",
    "df = pd.read_html(str(table))[0]\n",
    "\n",
    "# Renombrar el DataFrame a \"weather_records\"\n",
    "weather_records = df\n",
    "\n",
    "# Imprimir el DataFrame completo\n",
    "print(weather_records)"
   ]
  }
 ],
 "metadata": {
  "kernelspec": {
   "display_name": "Python 3",
   "language": "python",
   "name": "python3"
  },
  "language_info": {
   "codemirror_mode": {
    "name": "ipython",
    "version": 3
   },
   "file_extension": ".py",
   "mimetype": "text/x-python",
   "name": "python",
   "nbconvert_exporter": "python",
   "pygments_lexer": "ipython3",
   "version": "3.13.1"
  }
 },
 "nbformat": 4,
 "nbformat_minor": 5
}
