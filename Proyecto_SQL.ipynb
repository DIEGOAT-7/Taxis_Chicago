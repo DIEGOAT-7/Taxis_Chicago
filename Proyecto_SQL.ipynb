{
 "cells": [
  {
   "cell_type": "code",
   "execution_count": 2,
   "metadata": {},
   "outputs": [],
   "source": [
    "# Importar librerías necesarias\n",
    "import pandas as pd\n",
    "import matplotlib.pyplot as plt\n",
    "import seaborn as sns\n",
    "\n",
    "# Configuración de gráficos\n",
    "sns.set(style=\"whitegrid\")"
   ]
  },
  {
   "cell_type": "code",
   "execution_count": 3,
   "metadata": {},
   "outputs": [],
   "source": [
    "# Cargar los datasets\n",
    "df_companies = pd.read_csv('/datasets/project_sql_result_01.csv')  # Empresas de taxis y número de viajes\n",
    "df_neighborhoods = pd.read_csv('/datasets/project_sql_result_04.csv')  # Barrios y viajes promedio\n",
    "df_trips_weather = pd.read_csv('/datasets/project_sql_result_07.csv')  # Viajes Loop → O'Hare con clima"
   ]
  },
  {
   "cell_type": "code",
   "execution_count": 4,
   "metadata": {},
   "outputs": [
    {
     "name": "stdout",
     "output_type": "stream",
     "text": [
      "\n",
      "--- Empresas de Taxis ---\n",
      "\n",
      "<class 'pandas.core.frame.DataFrame'>\n",
      "RangeIndex: 64 entries, 0 to 63\n",
      "Data columns (total 2 columns):\n",
      " #   Column        Non-Null Count  Dtype \n",
      "---  ------        --------------  ----- \n",
      " 0   company_name  64 non-null     object\n",
      " 1   trips_amount  64 non-null     int64 \n",
      "dtypes: int64(1), object(1)\n",
      "memory usage: 1.1+ KB\n",
      "None\n",
      "\n",
      "                      company_name  trips_amount\n",
      "0                        Flash Cab         19558\n",
      "1        Taxi Affiliation Services         11422\n",
      "2                Medallion Leasing         10367\n",
      "3                       Yellow Cab          9888\n",
      "4  Taxi Affiliation Service Yellow          9299\n"
     ]
    }
   ],
   "source": [
    "# Explorar los datasets\n",
    "print(\"\\n--- Empresas de Taxis ---\")\n",
    "print()\n",
    "print(df_companies.info())\n",
    "print()\n",
    "print(df_companies.head())"
   ]
  },
  {
   "cell_type": "code",
   "execution_count": 5,
   "metadata": {},
   "outputs": [
    {
     "name": "stdout",
     "output_type": "stream",
     "text": [
      "\n",
      "--- Barrios y viajes promedio ---\n",
      "\n",
      "<class 'pandas.core.frame.DataFrame'>\n",
      "RangeIndex: 94 entries, 0 to 93\n",
      "Data columns (total 2 columns):\n",
      " #   Column                 Non-Null Count  Dtype  \n",
      "---  ------                 --------------  -----  \n",
      " 0   dropoff_location_name  94 non-null     object \n",
      " 1   average_trips          94 non-null     float64\n",
      "dtypes: float64(1), object(1)\n",
      "memory usage: 1.6+ KB\n",
      "None\n",
      "\n",
      "  dropoff_location_name  average_trips\n",
      "0                  Loop   10727.466667\n",
      "1           River North    9523.666667\n",
      "2         Streeterville    6664.666667\n",
      "3             West Loop    5163.666667\n",
      "4                O'Hare    2546.900000\n"
     ]
    }
   ],
   "source": [
    "print(\"\\n--- Barrios y viajes promedio ---\")\n",
    "print()\n",
    "print(df_neighborhoods.info())\n",
    "print()\n",
    "print(df_neighborhoods.head())"
   ]
  },
  {
   "cell_type": "code",
   "execution_count": 6,
   "metadata": {},
   "outputs": [
    {
     "name": "stdout",
     "output_type": "stream",
     "text": [
      "\n",
      "--- Viajes Loop → O'Hare con clima ---\n",
      "\n",
      "<class 'pandas.core.frame.DataFrame'>\n",
      "RangeIndex: 1068 entries, 0 to 1067\n",
      "Data columns (total 3 columns):\n",
      " #   Column              Non-Null Count  Dtype  \n",
      "---  ------              --------------  -----  \n",
      " 0   start_ts            1068 non-null   object \n",
      " 1   weather_conditions  1068 non-null   object \n",
      " 2   duration_seconds    1068 non-null   float64\n",
      "dtypes: float64(1), object(2)\n",
      "memory usage: 25.2+ KB\n",
      "None\n",
      "\n",
      "              start_ts weather_conditions  duration_seconds\n",
      "0  2017-11-25 16:00:00               Good            2410.0\n",
      "1  2017-11-25 14:00:00               Good            1920.0\n",
      "2  2017-11-25 12:00:00               Good            1543.0\n",
      "3  2017-11-04 10:00:00               Good            2512.0\n",
      "4  2017-11-11 07:00:00               Good            1440.0\n"
     ]
    }
   ],
   "source": [
    "print(\"\\n--- Viajes Loop → O'Hare con clima ---\")\n",
    "print()\n",
    "print(df_trips_weather.info())\n",
    "print()\n",
    "print(df_trips_weather.head())"
   ]
  },
  {
   "cell_type": "code",
   "execution_count": 7,
   "metadata": {},
   "outputs": [
    {
     "name": "stdout",
     "output_type": "stream",
     "text": [
      "\n",
      "Valores nulos por dataset:\n",
      "\n",
      "Empresas de taxis: company_name    0\n",
      "trips_amount    0\n",
      "dtype: int64\n",
      "\n",
      "Barrios y viajes promedio: dropoff_location_name    0\n",
      "average_trips            0\n",
      "dtype: int64\n",
      "\n",
      "Viajes Loop → O'Hare: start_ts              0\n",
      "weather_conditions    0\n",
      "duration_seconds      0\n",
      "dtype: int64\n"
     ]
    }
   ],
   "source": [
    "# Verificar valores nulos en cada dataset\n",
    "print(\"\\nValores nulos por dataset:\")\n",
    "print()\n",
    "print(\"Empresas de taxis:\", df_companies.isnull().sum())\n",
    "print()\n",
    "print(\"Barrios y viajes promedio:\", df_neighborhoods.isnull().sum())\n",
    "print()\n",
    "print(\"Viajes Loop → O'Hare:\", df_trips_weather.isnull().sum())"
   ]
  },
  {
   "cell_type": "code",
   "execution_count": 8,
   "metadata": {},
   "outputs": [
    {
     "name": "stdout",
     "output_type": "stream",
     "text": [
      "\n",
      "--- Tipos de datos ---\n",
      "\n",
      "Empresas de taxis:\n",
      " company_name    object\n",
      "trips_amount     int64\n",
      "dtype: object\n",
      "\n",
      "Barrios y viajes promedio:\n",
      " dropoff_location_name     object\n",
      "average_trips            float64\n",
      "dtype: object\n",
      "\n",
      "Viajes Loop → O'Hare:\n",
      " start_ts               object\n",
      "weather_conditions     object\n",
      "duration_seconds      float64\n",
      "dtype: object\n"
     ]
    }
   ],
   "source": [
    "# Verificar tipos de datos\n",
    "print(\"\\n--- Tipos de datos ---\")\n",
    "print()\n",
    "print(\"Empresas de taxis:\\n\", df_companies.dtypes)\n",
    "print()\n",
    "print(\"Barrios y viajes promedio:\\n\", df_neighborhoods.dtypes)\n",
    "print()\n",
    "print(\"Viajes Loop → O'Hare:\\n\", df_trips_weather.dtypes)"
   ]
  },
  {
   "cell_type": "code",
   "execution_count": 9,
   "metadata": {},
   "outputs": [],
   "source": [
    "# Convertir trips_amount y average_trips a enteros\n",
    "df_companies['trips_amount'] = pd.to_numeric(df_companies['trips_amount'], errors='coerce')\n",
    "df_neighborhoods['average_trips'] = pd.to_numeric(df_neighborhoods['average_trips'], errors='coerce')\n",
    "\n",
    "# Convertir start_ts a formato datetime\n",
    "df_trips_weather['start_ts'] = pd.to_datetime(df_trips_weather['start_ts'], errors='coerce')"
   ]
  },
  {
   "cell_type": "code",
   "execution_count": 10,
   "metadata": {},
   "outputs": [
    {
     "name": "stdout",
     "output_type": "stream",
     "text": [
      "\n",
      "--- Tipos de datos después de la conversión ---\n",
      "\n",
      "Empresas de taxis:\n",
      " company_name    object\n",
      "trips_amount     int64\n",
      "dtype: object\n",
      "\n",
      "Barrios y viajes promedio:\n",
      " dropoff_location_name     object\n",
      "average_trips            float64\n",
      "dtype: object\n",
      "\n",
      "Viajes Loop → O'Hare:\n",
      " start_ts              datetime64[ns]\n",
      "weather_conditions            object\n",
      "duration_seconds             float64\n",
      "dtype: object\n"
     ]
    }
   ],
   "source": [
    "# Verificar nuevamente los tipos de datos después de la conversión\n",
    "print(\"\\n--- Tipos de datos después de la conversión ---\")\n",
    "print()\n",
    "print(\"Empresas de taxis:\\n\", df_companies.dtypes)\n",
    "print()\n",
    "print(\"Barrios y viajes promedio:\\n\", df_neighborhoods.dtypes)\n",
    "print()\n",
    "print(\"Viajes Loop → O'Hare:\\n\", df_trips_weather.dtypes)"
   ]
  },
  {
   "cell_type": "code",
   "execution_count": 11,
   "metadata": {
    "scrolled": true
   },
   "outputs": [
    {
     "name": "stdout",
     "output_type": "stream",
     "text": [
      "\n",
      "🔝 Top 10 barrios con más finalizaciones de viaje:\n",
      "\n",
      "  dropoff_location_name  average_trips\n",
      "0                  Loop   10727.466667\n",
      "1           River North    9523.666667\n",
      "2         Streeterville    6664.666667\n",
      "3             West Loop    5163.666667\n",
      "4                O'Hare    2546.900000\n",
      "5             Lake View    2420.966667\n",
      "6            Grant Park    2068.533333\n",
      "7         Museum Campus    1510.000000\n",
      "8            Gold Coast    1364.233333\n",
      "9    Sheffield & DePaul    1259.766667\n"
     ]
    }
   ],
   "source": [
    "# Ordenamos los barrios por 'average_trips' en orden descendente\n",
    "top_10_neighborhoods = df_neighborhoods.sort_values(by='average_trips', ascending=False).head(10)\n",
    "\n",
    "# Mostramos los 10 principales barrios\n",
    "print(\"\\n🔝 Top 10 barrios con más finalizaciones de viaje:\")\n",
    "print()\n",
    "print(top_10_neighborhoods)"
   ]
  },
  {
   "cell_type": "code",
   "execution_count": 12,
   "metadata": {},
   "outputs": [
    {
     "name": "stdout",
     "output_type": "stream",
     "text": [
      "Numero de duplicados: 0\n",
      "\n",
      "Nombres de barrios:\n",
      "\n",
      "['Loop' 'River North' 'Streeterville' 'West Loop' \"O'Hare\" 'Lake View'\n",
      " 'Grant Park' 'Museum Campus' 'Gold Coast' 'Sheffield & DePaul'\n",
      " 'Lincoln Park' 'East Village' 'Little Italy, UIC' 'Uptown'\n",
      " 'Near South Side' 'Garfield Ridge' 'Logan Square' 'Edgewater' 'West Town'\n",
      " 'Old Town' 'Rush & Division' 'North Center' 'Lincoln Square'\n",
      " 'Rogers Park' 'West Ridge' 'Irving Park' 'Hyde Park' 'Avondale'\n",
      " 'Wicker Park' 'Albany Park' 'United Center' 'Lower West Side' 'Douglas'\n",
      " 'Portage Park' 'Humboldt Park' 'Norwood Park' 'Kenwood' 'Bridgeport'\n",
      " 'Armour Square' 'Jefferson Park' 'Bucktown' 'North Park' 'Garfield Park'\n",
      " 'Mckinley Park' 'Belmont Cragin' 'Boystown' 'Chinatown' 'Grand Boulevard'\n",
      " 'Austin' 'Sauganash,Forest Glen' 'South Shore' 'Woodlawn'\n",
      " 'Little Village' 'Jackson Park' 'North Lawndale' 'Dunning'\n",
      " 'Ukrainian Village' 'Hermosa' 'Englewood' 'Chatham' 'New City'\n",
      " 'Grand Crossing' 'Brighton Park' 'Andersonville' 'Oakland' 'Ashburn'\n",
      " 'Washington Park' 'Auburn Gresham' 'Clearing' 'Roseland' 'Wrigleyville'\n",
      " 'Edison Park' 'South Chicago' 'Chicago Lawn' 'Beverly' 'Calumet Heights'\n",
      " 'Washington Heights' 'Archer Heights' 'Gage Park' 'Fuller Park'\n",
      " 'West Lawn' 'Morgan Park' 'South Deering' 'Avalon Park' 'West Pullman'\n",
      " 'Montclare' 'West Elsdon' 'Pullman' 'Undef' 'Mount Greenwood' 'Hegewisch'\n",
      " 'Burnside' 'East Side' 'Riverdale']\n",
      "\n",
      "Numero de nombres de barrios:\n",
      "94\n"
     ]
    }
   ],
   "source": [
    "# Verificar si hay duplicados\n",
    "\n",
    "duplicated_neighborhoods = df_neighborhoods['dropoff_location_name'].duplicated().sum()\n",
    "print(f'Numero de duplicados: {duplicated_neighborhoods}')\n",
    "\n",
    "# Verificar si hay duplicados implicitos\n",
    "print()\n",
    "print('Nombres de barrios:')\n",
    "print()\n",
    "print(df_neighborhoods['dropoff_location_name'].unique())\n",
    "print()\n",
    "print('Numero de nombres de barrios:')\n",
    "print(df_neighborhoods['dropoff_location_name'].nunique())"
   ]
  },
  {
   "cell_type": "markdown",
   "metadata": {},
   "source": [
    "- No tenemos duplicados ni duplicados implicitos, ya que tenemos 94 nombres de barrios diferentes y este dataframe tiene el mismo numero de filas.\n",
    "\n",
    "- No hay valores exactos repetidos, pero hay algunas áreas que pueden representar lo mismo con diferentes nombres o niveles de granularidad."
   ]
  },
  {
   "cell_type": "markdown",
   "metadata": {},
   "source": [
    " # Visualización de Datos:\n",
    "\n",
    "### Vamos a crear dos gráficos:\n",
    "\n",
    "- Empresas de taxis vs. Número de viajes\n",
    "- Top 10 barrios por finalización de viajes"
   ]
  },
  {
   "cell_type": "code",
   "execution_count": 13,
   "metadata": {},
   "outputs": [
    {
     "data": {
      "image/png": "[encoded data removed]",
      "text/plain": [
       "<Figure size 1200x800 with 1 Axes>"
      ]
     },
     "metadata": {},
     "output_type": "display_data"
    }
   ],
   "source": [
    "# Filtrar las 10 empresas con más viajes\n",
    "top_10_companies = df_companies.sort_values(by=\"trips_amount\", ascending=False).head(10)\n",
    "\n",
    "# Empresas de taxis y número de viajes\n",
    "plt.figure(figsize=(12, 8))  # Aumentamos la altura para más espacio\n",
    "sns.barplot(data=top_10_companies, x=\"trips_amount\", y=\"company_name\", palette=\"viridis\")\n",
    "\n",
    "plt.xlabel(\"Número de viajes\")\n",
    "plt.ylabel(\"Empresa de taxis\")\n",
    "plt.title(\"Top 10 Empresas de taxis con más viajes (15-16 Nov 2017)\")\n",
    "plt.xticks(rotation=45, ha=\"right\")  \n",
    "\n",
    "plt.show()\n"
   ]
  },
  {
   "cell_type": "markdown",
   "metadata": {},
   "source": [
    "# Empresas de taxis y número de viajes\n",
    "\n",
    "### Conclusión:\n",
    "\n",
    "Se observa que unas pocas empresas dominan el mercado de viajes en taxi.\n",
    "La empresa con más viajes tiene una diferencia significativa con las demás.\n",
    "Algunas compañías tienen una cantidad de viajes muy baja, lo que podría significar menor demanda o una menor cantidad de taxis en servicio.\n",
    "\n",
    "\n",
    "Es posible que ciertas empresas tengan contratos con clientes frecuentes o acuerdos con corporaciones.\n",
    "Empresas más grandes pueden tener más vehículos en circulación, lo que les permite captar más viajes.\n",
    "\n",
    "### Recomendaciones:\n",
    "\n",
    "Si Zuber quiere competir en el mercado, debe analizar las estrategias de las empresas líderes:\n",
    "\n",
    "- Investigar sus tarifas y promociones.\n",
    "- Estudiar en qué zonas tienen más presencia.\n",
    "- Evaluar si ofrecen beneficios adicionales a los pasajeros.\n"
   ]
  },
  {
   "cell_type": "code",
   "execution_count": 14,
   "metadata": {},
   "outputs": [
    {
     "data": {
      "image/png": "[encoded data removed]",
      "text/plain": [
       "<Figure size 1200x600 with 1 Axes>"
      ]
     },
     "metadata": {},
     "output_type": "display_data"
    }
   ],
   "source": [
    "# Gráfico 2: Top 10 barrios por número de finalizaciones\n",
    "plt.figure(figsize=(12, 6))\n",
    "sns.barplot(data=top_10_neighborhoods, x=\"average_trips\", y=\"dropoff_location_name\", palette=\"coolwarm\")\n",
    "plt.xlabel(\"Promedio de viajes finalizados\")\n",
    "plt.ylabel(\"Barrio\")\n",
    "plt.title(\"Top 10 barrios con más finalizaciones de viaje en Nov 2017\")\n",
    "plt.show()"
   ]
  },
  {
   "cell_type": "markdown",
   "metadata": {},
   "source": [
    "# Top 10 barrios con más finalizaciones de viajes\n",
    "\n",
    "### Conclusión:\n",
    "\n",
    "Hay barrios donde terminan significativamente más viajes que en otros.\n",
    "River North y el centro de Chicago (Loop) son los lugares con más finalizaciones.\n",
    "La diferencia entre los primeros barrios y el resto es notable.\n",
    "\n",
    "Loop es el centro financiero y comercial de la ciudad, con gran afluencia de personas por trabajo y turismo.\n",
    "Otros barrios con alto volumen de viajes podrían ser zonas comerciales, turísticas o residenciales densamente pobladas.\n",
    "\n",
    "### Recomendaciones:\n",
    "\n",
    "Zuber puede aprovechar esta información para:\n",
    "\n",
    "- Asegurar que haya disponibilidad de vehículos en los barrios con más demanda.\n",
    "- Implementar estrategias de precios dinámicos en horas pico en estas zonas.\n",
    "- Ofrecer descuentos o promociones en barrios con menor actividad para incentivar el uso del servicio."
   ]
  },
  {
   "cell_type": "markdown",
   "metadata": {},
   "source": [
    "# Prueba de Hipótesis: Clima y Duración de Viajes\n",
    "\n",
    "### Planteamiento de las hipótesis\n",
    "\n",
    "Queremos determinar si la duración promedio de los viajes desde el Loop hasta el Aeropuerto Internacional O'Hare cambia los sábados lluviosos.\n",
    "\n",
    "- Hipótesis Nula (H₀): La duración promedio de los viajes los sábados lluviosos y los sábados sin lluvia es la misma.\n",
    "- Hipótesis Alternativa (H₁): La duración promedio de los viajes los sábados lluviosos y los sábados sin lluvia es diferente.\n",
    "\n",
    "## Criterio de prueba\n",
    "\n",
    "Usaremos una prueba t test para dos muestras independientes porque:\n",
    "\n",
    "- Estamos comparando dos grupos de datos (viajes en sábados lluviosos vs. sábados sin lluvia).\n",
    "- Es probable que las varianzas de ambos grupos sean diferentes.\n",
    "- El tamaño de muestra podría no ser igual en ambos grupos.\n",
    "\n",
    "- Nivel de significación (α): 0.05 (5%)"
   ]
  },
  {
   "cell_type": "code",
   "execution_count": 15,
   "metadata": {},
   "outputs": [
    {
     "name": "stdout",
     "output_type": "stream",
     "text": [
      "Estadístico t: -7.19\n",
      "Valor p: 0.0000\n",
      "Rechazamos la hipótesis nula: La duración promedio de los viajes es diferente en sábados lluviosos y con clima malo.\n"
     ]
    }
   ],
   "source": [
    "import scipy.stats as stats\n",
    "\n",
    "# Filtrar solo los sábados\n",
    "df_trips_weather[\"weekday\"] = df_trips_weather[\"start_ts\"].dt.day_name()\n",
    "saturday_trips = df_trips_weather[df_trips_weather[\"weekday\"] == \"Saturday\"]\n",
    "\n",
    "# Filtrar los viajes según las condiciones climáticas\n",
    "saturday_rainy = saturday_trips[saturday_trips[\"weather_conditions\"].str.contains(\"Good\", case=False, na=False)]\n",
    "saturday_bad = saturday_trips[saturday_trips[\"weather_conditions\"] == \"Bad\"] \n",
    "\n",
    "# Extraer duraciones de viajes\n",
    "duration_rainy = saturday_rainy[\"duration_seconds\"]\n",
    "duration_bad = saturday_bad[\"duration_seconds\"]\n",
    "\n",
    "# Prueba t de Welch\n",
    "t_stat, p_value = stats.ttest_ind(duration_rainy, duration_bad, equal_var=False)\n",
    "\n",
    "# Resultados\n",
    "alpha = 0.05\n",
    "print(f\"Estadístico t: {t_stat:.2f}\")\n",
    "print(f\"Valor p: {p_value:.4f}\")\n",
    "\n",
    "if p_value < alpha:\n",
    "    print(\"Rechazamos la hipótesis nula: La duración promedio de los viajes es diferente en sábados lluviosos y con clima malo.\")\n",
    "else:\n",
    "    print(\"No se puede rechazar la hipótesis nula: No hay evidencia suficiente para afirmar que la duración cambia.\")\n"
   ]
  },
  {
   "cell_type": "markdown",
   "metadata": {},
   "source": [
    "## Conclusión\n",
    "\n",
    "- Rechazamos la hipótesis nula: La duración promedio de los viajes es diferente en sábados lluviosos y con clima malo.\n",
    "\n",
    "##  **Conclusiones del análisis**\n",
    "\n",
    "-  Las empresas de taxis con mayor volumen de viajes fueron **[Flash Cab]**.\n",
    "-  El barrio con mayor número de viajes promedio fue **[el centro de Chicago (Loop)]**.\n",
    "-  Las visualizaciones revelan diferencias claras entre compañías y barrios, lo que podría usarse para estrategias de expansión o marketing.\n",
    "\n",
    "---"
   ]
  }
 ],
 "metadata": {
  "ExecuteTimeLog": [
   {
    "duration": 2618,
    "start_time": "2025-02-13T02:14:51.115Z"
   },
   {
    "duration": 3,
    "start_time": "2025-02-13T02:15:18.548Z"
   },
   {
    "duration": 23,
    "start_time": "2025-02-13T02:15:48.654Z"
   },
   {
    "duration": 11,
    "start_time": "2025-02-13T02:16:25.282Z"
   },
   {
    "duration": 10,
    "start_time": "2025-02-13T02:16:54.302Z"
   },
   {
    "duration": 9,
    "start_time": "2025-02-13T02:17:30.059Z"
   },
   {
    "duration": 5,
    "start_time": "2025-02-13T02:17:33.528Z"
   },
   {
    "duration": 10,
    "start_time": "2025-02-13T02:18:31.362Z"
   },
   {
    "duration": 10,
    "start_time": "2025-02-13T02:18:46.010Z"
   },
   {
    "duration": 10,
    "start_time": "2025-02-13T02:19:41.657Z"
   },
   {
    "duration": 10,
    "start_time": "2025-02-13T02:21:25.820Z"
   },
   {
    "duration": 7,
    "start_time": "2025-02-13T02:23:16.937Z"
   },
   {
    "duration": 6,
    "start_time": "2025-02-13T02:23:57.547Z"
   },
   {
    "duration": 5,
    "start_time": "2025-02-13T02:27:06.331Z"
   },
   {
    "duration": 5,
    "start_time": "2025-02-13T02:27:32.773Z"
   },
   {
    "duration": 6,
    "start_time": "2025-02-13T02:28:34.076Z"
   },
   {
    "duration": 6,
    "start_time": "2025-02-13T02:29:24.796Z"
   },
   {
    "duration": 7,
    "start_time": "2025-02-13T02:29:55.983Z"
   },
   {
    "duration": 6,
    "start_time": "2025-02-13T02:36:50.250Z"
   },
   {
    "duration": 223,
    "start_time": "2025-02-13T02:57:05.715Z"
   },
   {
    "duration": 1179,
    "start_time": "2025-02-13T02:58:12.128Z"
   },
   {
    "duration": 178,
    "start_time": "2025-02-13T02:59:24.116Z"
   },
   {
    "duration": 17,
    "start_time": "2025-02-13T03:12:34.179Z"
   },
   {
    "duration": 226,
    "start_time": "2025-02-13T03:13:13.561Z"
   },
   {
    "duration": 294,
    "start_time": "2025-02-13T03:14:50.183Z"
   },
   {
    "duration": 342,
    "start_time": "2025-02-13T03:15:04.462Z"
   },
   {
    "duration": 351,
    "start_time": "2025-02-13T03:15:39.966Z"
   },
   {
    "duration": 18,
    "start_time": "2025-02-13T03:45:40.088Z"
   },
   {
    "duration": 11,
    "start_time": "2025-02-13T03:47:36.125Z"
   },
   {
    "duration": 14,
    "start_time": "2025-02-13T03:50:34.589Z"
   },
   {
    "duration": 4,
    "start_time": "2025-02-13T03:52:16.461Z"
   },
   {
    "duration": 4,
    "start_time": "2025-02-13T03:53:30.952Z"
   },
   {
    "duration": 156,
    "start_time": "2025-02-13T14:58:54.500Z"
   },
   {
    "duration": 11,
    "start_time": "2025-02-13T14:59:22.475Z"
   },
   {
    "duration": 2578,
    "start_time": "2025-02-13T14:59:50.465Z"
   },
   {
    "duration": 21,
    "start_time": "2025-02-13T14:59:53.045Z"
   },
   {
    "duration": 12,
    "start_time": "2025-02-13T14:59:53.067Z"
   },
   {
    "duration": 12,
    "start_time": "2025-02-13T14:59:53.080Z"
   },
   {
    "duration": 12,
    "start_time": "2025-02-13T14:59:53.094Z"
   },
   {
    "duration": 14,
    "start_time": "2025-02-13T14:59:53.108Z"
   },
   {
    "duration": 6,
    "start_time": "2025-02-13T14:59:53.124Z"
   },
   {
    "duration": 7,
    "start_time": "2025-02-13T14:59:53.133Z"
   },
   {
    "duration": 6,
    "start_time": "2025-02-13T14:59:53.142Z"
   },
   {
    "duration": 5,
    "start_time": "2025-02-13T14:59:53.149Z"
   },
   {
    "duration": 101,
    "start_time": "2025-02-13T14:59:53.156Z"
   },
   {
    "duration": 0,
    "start_time": "2025-02-13T14:59:53.260Z"
   },
   {
    "duration": 0,
    "start_time": "2025-02-13T14:59:53.261Z"
   },
   {
    "duration": 0,
    "start_time": "2025-02-13T14:59:53.263Z"
   },
   {
    "duration": 6,
    "start_time": "2025-02-13T15:00:46.657Z"
   },
   {
    "duration": 5,
    "start_time": "2025-02-13T15:05:52.386Z"
   },
   {
    "duration": 5,
    "start_time": "2025-02-13T15:08:33.922Z"
   },
   {
    "duration": 5,
    "start_time": "2025-02-13T15:11:51.210Z"
   },
   {
    "duration": 4,
    "start_time": "2025-02-13T15:12:53.274Z"
   },
   {
    "duration": 5,
    "start_time": "2025-02-13T15:13:21.036Z"
   },
   {
    "duration": 5,
    "start_time": "2025-02-13T15:15:59.065Z"
   },
   {
    "duration": 5,
    "start_time": "2025-02-13T15:17:04.592Z"
   },
   {
    "duration": 6,
    "start_time": "2025-02-13T15:17:41.100Z"
   },
   {
    "duration": 4,
    "start_time": "2025-02-13T15:18:36.272Z"
   },
   {
    "duration": 4,
    "start_time": "2025-02-13T15:21:36.821Z"
   },
   {
    "duration": 4,
    "start_time": "2025-02-13T15:23:28.536Z"
   },
   {
    "duration": 4,
    "start_time": "2025-02-13T15:26:26.484Z"
   },
   {
    "duration": 5,
    "start_time": "2025-02-13T15:27:06.242Z"
   },
   {
    "duration": 260,
    "start_time": "2025-02-13T15:37:05.899Z"
   },
   {
    "duration": 218,
    "start_time": "2025-02-13T15:37:16.627Z"
   },
   {
    "duration": 4,
    "start_time": "2025-02-13T15:37:25.641Z"
   },
   {
    "duration": 15,
    "start_time": "2025-02-13T15:37:25.647Z"
   },
   {
    "duration": 9,
    "start_time": "2025-02-13T15:37:25.664Z"
   },
   {
    "duration": 9,
    "start_time": "2025-02-13T15:37:25.675Z"
   },
   {
    "duration": 9,
    "start_time": "2025-02-13T15:37:25.688Z"
   },
   {
    "duration": 7,
    "start_time": "2025-02-13T15:37:25.699Z"
   },
   {
    "duration": 5,
    "start_time": "2025-02-13T15:37:25.707Z"
   },
   {
    "duration": 5,
    "start_time": "2025-02-13T15:37:25.713Z"
   },
   {
    "duration": 5,
    "start_time": "2025-02-13T15:37:25.719Z"
   },
   {
    "duration": 6,
    "start_time": "2025-02-13T15:37:25.726Z"
   },
   {
    "duration": 5,
    "start_time": "2025-02-13T15:37:25.734Z"
   },
   {
    "duration": 268,
    "start_time": "2025-02-13T15:37:25.741Z"
   },
   {
    "duration": 182,
    "start_time": "2025-02-13T15:37:26.011Z"
   },
   {
    "duration": 10,
    "start_time": "2025-02-13T15:37:26.196Z"
   },
   {
    "duration": 9,
    "start_time": "2025-02-13T15:51:36.169Z"
   },
   {
    "duration": 6,
    "start_time": "2025-02-13T15:58:11.837Z"
   },
   {
    "duration": 5,
    "start_time": "2025-02-13T15:58:50.048Z"
   },
   {
    "duration": 731,
    "start_time": "2025-02-14T15:07:31.911Z"
   },
   {
    "duration": 2089,
    "start_time": "2025-02-14T15:07:41.142Z"
   },
   {
    "duration": 24,
    "start_time": "2025-02-14T15:07:43.234Z"
   },
   {
    "duration": 11,
    "start_time": "2025-02-14T15:07:43.260Z"
   },
   {
    "duration": 9,
    "start_time": "2025-02-14T15:07:43.272Z"
   },
   {
    "duration": 9,
    "start_time": "2025-02-14T15:07:43.285Z"
   },
   {
    "duration": 19,
    "start_time": "2025-02-14T15:07:43.295Z"
   },
   {
    "duration": 5,
    "start_time": "2025-02-14T15:07:43.316Z"
   },
   {
    "duration": 6,
    "start_time": "2025-02-14T15:07:43.322Z"
   },
   {
    "duration": 5,
    "start_time": "2025-02-14T15:07:43.330Z"
   },
   {
    "duration": 5,
    "start_time": "2025-02-14T15:07:43.337Z"
   },
   {
    "duration": 4,
    "start_time": "2025-02-14T15:07:43.344Z"
   },
   {
    "duration": 302,
    "start_time": "2025-02-14T15:07:43.350Z"
   },
   {
    "duration": 189,
    "start_time": "2025-02-14T15:07:43.655Z"
   },
   {
    "duration": 9,
    "start_time": "2025-02-14T15:07:43.847Z"
   },
   {
    "duration": 58,
    "start_time": "2025-02-14T15:07:43.858Z"
   },
   {
    "duration": 14,
    "start_time": "2025-02-14T15:12:22.938Z"
   }
  ],
  "kernelspec": {
   "display_name": "Python 3",
   "language": "python",
   "name": "python3"
  },
  "language_info": {
   "codemirror_mode": {
    "name": "ipython",
    "version": 3
   },
   "file_extension": ".py",
   "mimetype": "text/x-python",
   "name": "python",
   "nbconvert_exporter": "python",
   "pygments_lexer": "ipython3",
   "version": "3.13.1"
  },
  "toc": {
   "base_numbering": 1,
   "nav_menu": {},
   "number_sections": true,
   "sideBar": true,
   "skip_h1_title": true,
   "title_cell": "Table of Contents",
   "title_sidebar": "Contents",
   "toc_cell": false,
   "toc_position": {},
   "toc_section_display": true,
   "toc_window_display": false
  }
 },
 "nbformat": 4,
 "nbformat_minor": 2
}
